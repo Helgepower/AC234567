{
  "nbformat": 4,
  "nbformat_minor": 0,
  "metadata": {
    "colab": {
      "name": "Untitled0.ipynb",
      "provenance": [],
      "authorship_tag": "ABX9TyNLY3hwiAyvvZtc0Z/nve2E",
      "include_colab_link": true
    },
    "kernelspec": {
      "name": "python3",
      "display_name": "Python 3"
    }
  },
  "cells": [
    {
      "cell_type": "markdown",
      "metadata": {
        "id": "view-in-github",
        "colab_type": "text"
      },
      "source": [
        "<a href=\"https://colab.research.google.com/github/Helgepower/AC234567/blob/master/Artifact.ipynb\" target=\"_parent\"><img src=\"https://colab.research.google.com/assets/colab-badge.svg\" alt=\"Open In Colab\"/></a>"
      ]
    },
    {
      "cell_type": "code",
      "metadata": {
        "id": "YjGZhK5PheoV",
        "colab_type": "code",
        "colab": {
          "base_uri": "https://localhost:8080/",
          "height": 102
        },
        "outputId": "994ff940-7fd8-43bd-f767-862fdc6cdfab"
      },
      "source": [
        "class library():\n",
        "    def __init__(self):\n",
        "        self.shanks = []\n",
        "        self.tools = []\n",
        "        \n",
        "        Shank = shank(\"C5\", 50)\n",
        "        self.shanks.append(Shank)\n",
        "        Shank = shank(\"C6\", 60)\n",
        "        self.shanks.append(Shank)\n",
        "        Shank = shank(\"C8\", 80)\n",
        "        self.shanks.append(Shank)\n",
        "    \n",
        "class shank():\n",
        "    def __init__(self, title, size):\n",
        "        self.title=title\n",
        "        self.size=size\n",
        "        self.shanks = [\"C5\", 50]\n",
        "        \n",
        "class ReachFinder():\n",
        "    def __init__(self, targetwall, upperwall, cuttingheight, zheight):\n",
        "        #RADIUS INPUT.\n",
        "        self.targetwall=targetwall\n",
        "        self.upperwall=upperwall\n",
        "        self.cuttingheight=cuttingheight\n",
        "        self.zheight=zheight\n",
        "        \n",
        "        if self.upperwall < self.targetwall:\n",
        "            self.reach = self.targetwall - self.upperwall\n",
        "        else:\n",
        "            self.reach = self.upperwall - self.targetwall\n",
        "        \n",
        "        self.reachlength = self.zheight - self.cuttingheight\n",
        "\n",
        "toollib = library()\n",
        "\n",
        "Shanks = toollib.shanks\n",
        "\n",
        "# Hole definition.\n",
        "Margin = 0.5\n",
        "targetWall = 470/2\n",
        "UpperBore = 910/2\n",
        "zHeight = 0\n",
        "CuttingHeight = -750\n",
        "\n",
        "millDiameter = 0\n",
        "\n",
        "rf = ReachFinder(targetWall, UpperBore, CuttingHeight, zHeight)\n",
        "\n",
        "\n",
        "print(\"Minimum Mill Diameter(No shank.): {}\".format(rf.reach))\n",
        "print(\"Minimum Mill Length: {}\".format(rf.reachlength))\n",
        "\n",
        "\n",
        "for shank in Shanks:\n",
        "    print(\"Mill Minimum dia. with shank {} : {}\".format(shank.title, rf.reach + shank.size))"
      ],
      "execution_count": 1,
      "outputs": [
        {
          "output_type": "stream",
          "text": [
            "Minimum Mill Diameter(No shank.): 220.0\n",
            "Minimum Mill Length: 750\n",
            "Mill Minimum dia. with shank C5 : 270.0\n",
            "Mill Minimum dia. with shank C6 : 280.0\n",
            "Mill Minimum dia. with shank C8 : 300.0\n"
          ],
          "name": "stdout"
        }
      ]
    },
    {
      "cell_type": "code",
      "metadata": {
        "id": "G8xAP6whhl01",
        "colab_type": "code",
        "colab": {}
      },
      "source": [
        ""
      ],
      "execution_count": null,
      "outputs": []
    }
  ]
}